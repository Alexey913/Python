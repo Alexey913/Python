{
 "cells": [
  {
   "cell_type": "code",
   "execution_count": 1,
   "metadata": {
    "datalore": {
     "hide_input_from_viewers": false,
     "hide_output_from_viewers": false,
     "node_id": "eNmvNAjsuYYJc0l78Bl9Rq",
     "report_properties": {},
     "type": "CODE"
    }
   },
   "outputs": [],
   "source": [
    "# f(x) = (x ** 2 + 3) / (3 * (x + 1))\n",
    "# 1. Определить корни\n",
    "# 2. Найти интервалы, на которых функция возрастает\n",
    "# 3. Найти интервалы, на которых функция убывает\n",
    "# 4. Построить график\n",
    "# 5. Вычислить вершину\n",
    "# 6. Определить промежутки, на котором f > 0\n",
    "# 7. Определить промежутки, на котором f < 0"
   ]
  },
  {
   "cell_type": "code",
   "execution_count": 2,
   "metadata": {
    "datalore": {
     "hide_input_from_viewers": false,
     "hide_output_from_viewers": false,
     "node_id": "Z6uY5u5LKRCKbBpFosSHir",
     "report_properties": {},
     "type": "CODE"
    }
   },
   "outputs": [
    {
     "data": {
      "text/latex": [
       "$\\displaystyle \\frac{x^{2} + 3}{3 x + 3}$"
      ],
      "text/plain": [
       "(x**2 + 3)/(3*x + 3)"
      ]
     },
     "execution_count": 2,
     "metadata": {},
     "output_type": "execute_result"
    }
   ],
   "source": [
    "# Представление функции\n",
    "from sympy import *\n",
    "from sympy.plotting import plot\n",
    "\n",
    "x = Symbol (\"x\")\n",
    "f = (x ** 2 + 3) / (3 * (x + 1))\n",
    "f"
   ]
  },
  {
   "cell_type": "code",
   "execution_count": 3,
   "metadata": {
    "datalore": {
     "hide_input_from_viewers": false,
     "hide_output_from_viewers": false,
     "node_id": "OJXf7VPbTu2BNvJj3kEme6",
     "report_properties": {},
     "type": "CODE"
    }
   },
   "outputs": [
    {
     "name": "stdout",
     "output_type": "stream",
     "text": [
      "Нули функции равны:\n"
     ]
    },
    {
     "data": {
      "text/latex": [
       "$\\displaystyle \\left\\{- \\sqrt{3} i, \\sqrt{3} i\\right\\}$"
      ],
      "text/plain": [
       "{-sqrt(3)*I, sqrt(3)*I}"
      ]
     },
     "execution_count": 3,
     "metadata": {},
     "output_type": "execute_result"
    }
   ],
   "source": [
    "# Находим нули функции\n",
    "print('Нули функции равны:')\n",
    "roots = solve(f, x) #решения в формате Python\n",
    "roots = solveset (f,x) #решения в символьном формате\n",
    "roots"
   ]
  },
  {
   "cell_type": "code",
   "execution_count": 4,
   "metadata": {
    "datalore": {
     "hide_input_from_viewers": false,
     "hide_output_from_viewers": false,
     "node_id": "PKL3a265hkVZK6iiHeqUTu",
     "report_properties": {},
     "type": "CODE"
    }
   },
   "outputs": [
    {
     "data": {
      "text/plain": [
       "[-oo, -3, 1, oo]"
      ]
     },
     "execution_count": 4,
     "metadata": {},
     "output_type": "execute_result"
    }
   ],
   "source": [
    "# Определяем интервалы, где функция возрастает и убывает ('Экстремумы')\n",
    "extremum_list = [-oo, oo]\n",
    "extremum_list[1:1] = solve(diff(f), x)\n",
    "extremum_list"
   ]
  },
  {
   "cell_type": "code",
   "execution_count": 9,
   "metadata": {
    "datalore": {
     "hide_input_from_viewers": false,
     "hide_output_from_viewers": false,
     "node_id": "kT6bK5agu4xPU6JpbFU4Zt",
     "report_properties": {},
     "type": "CODE"
    }
   },
   "outputs": [
    {
     "name": "stdout",
     "output_type": "stream",
     "text": [
      "Функция возрастает на следующих интервалах:\n",
      "(-oo,-3) (1,oo) \n",
      "\n",
      "Функция убываает на следующих интервалах:\n",
      "(-3,1) "
     ]
    }
   ],
   "source": [
    "# Определяем интревалы возрастания и убывания (добавил переменные для вычиления интервалов знакопостоянства)\n",
    "increas_intervals =[]\n",
    "decreas_intervals = []\n",
    "check_inc=0\n",
    "check_dec=0\n",
    "for i in range (1,len(extremum_list)):\n",
    "    temp = is_increasing(f, Interval.open(extremum_list[i-1], extremum_list[i]))\n",
    "    if temp:\n",
    "        increas_intervals.append(f'{extremum_list[i-1]},{extremum_list[i]}')\n",
    "    else:\n",
    "        decreas_intervals.append(f'{extremum_list[i-1]},{extremum_list[i]}')\n",
    "if len(increas_intervals)>0:\n",
    "    print('Функция возрастает на следующих интервалах:')\n",
    "    for i in range (len(increas_intervals)):\n",
    "        print (f'({increas_intervals[i]})', end = \" \")\n",
    "        check_inc+=1\n",
    "    print(f'\\n')\n",
    "else:\n",
    "    print('Интервалы возрастания отсутствуют')\n",
    "if len(decreas_intervals)>0:\n",
    "    print('Функция убываает на следующих интервалах:')\n",
    "    for i in range (len(decreas_intervals)):\n",
    "        print (f'({decreas_intervals[i]})', end = \" \")\n",
    "        check_dec+=1\n",
    "else:\n",
    "    print('Интервалы убывания отсутствуют')"
   ]
  },
  {
   "cell_type": "code",
   "execution_count": 5,
   "metadata": {
    "datalore": {
     "hide_input_from_viewers": false,
     "hide_output_from_viewers": false,
     "node_id": "35lzZhHF3tStGzxMf2GQh2",
     "report_properties": {},
     "type": "CODE"
    }
   },
   "outputs": [
    {
     "data": {
      "text/latex": [
       "$\\displaystyle \\left\\{-1\\right\\}$"
      ],
      "text/plain": [
       "{-1}"
      ]
     },
     "execution_count": 5,
     "metadata": {},
     "output_type": "execute_result"
    }
   ],
   "source": [
    "# Находим область определения функции (вертикальная асимптота)\n",
    "f_0 = 3 * (x + 1)\n",
    "not_sol = solveset(f_0, x)\n",
    "not_sol"
   ]
  },
  {
   "cell_type": "code",
   "execution_count": 6,
   "metadata": {
    "datalore": {
     "hide_input_from_viewers": false,
     "hide_output_from_viewers": false,
     "node_id": "2q3HjGk78AtaijWZJFfcmo",
     "report_properties": {},
     "type": "CODE"
    }
   },
   "outputs": [
    {
     "data": {
      "image/png": "[encoded data removed]",
      "text/plain": [
       "<Figure size 640x480 with 1 Axes>"
      ]
     },
     "metadata": {},
     "output_type": "display_data"
    },
    {
     "data": {
      "text/plain": [
       "<sympy.plotting.plot.Plot at 0x23d52bdf970>"
      ]
     },
     "execution_count": 6,
     "metadata": {},
     "output_type": "execute_result"
    }
   ],
   "source": [
    "# Строим график\n",
    "plot((f, (x,-10, -1.1)), (f, (x, -0.9, 10)), legend = True)"
   ]
  },
  {
   "cell_type": "code",
   "execution_count": 7,
   "metadata": {
    "datalore": {
     "hide_input_from_viewers": false,
     "hide_output_from_viewers": false,
     "node_id": "Pp6NA8bJcbv9G5pDayjqoO",
     "report_properties": {},
     "type": "CODE"
    }
   },
   "outputs": [
    {
     "name": "stdout",
     "output_type": "stream",
     "text": [
      "Минимум 1 = -2\n",
      "Максимум 1 = 2/3\n"
     ]
    }
   ],
   "source": [
    "# Ищем экстремумы по методу семинара (сходится с Матвеем)\n",
    "extr = solve(diff(f), x)\n",
    "count_min = 1\n",
    "count_max = 1\n",
    "for i in extr:\n",
    "    temp = f.subs(x, i)\n",
    "    if temp < 0:\n",
    "        print (f\"Минимум {count_min} =\", temp)\n",
    "        count_min+=1\n",
    "    elif temp >0:\n",
    "        print (f\"Максимум {count_max} =\", temp)\n",
    "        count_max+=1          "
   ]
  },
  {
   "cell_type": "code",
   "execution_count": 10,
   "metadata": {
    "datalore": {
     "hide_input_from_viewers": true,
     "hide_output_from_viewers": true,
     "node_id": "qHuxNIMqFl4NyO5DkW33pG",
     "type": "CODE"
    }
   },
   "outputs": [
    {
     "name": "stdout",
     "output_type": "stream",
     "text": [
      "Минимум 1: x = -3, y = -2\n",
      "Максимум 1: x = 1, y = 2/3\n"
     ]
    }
   ],
   "source": [
    "# Ищем экстремумы по моему методу (правильный ответ)\n",
    "extr = solve(diff(f), x)\n",
    "count_min = 1\n",
    "count_max = 1\n",
    "if len(extr) == 0 or (check_inc==0 or check_dec==0):\n",
    "    print (f\"Максимумы и минимумы отсутствуют!\")\n",
    "elif len(extr) == 1:\n",
    "    temp_1 = f.subs(x, extr[0]+4)\n",
    "    temp_2 = f.subs(x, extr[0])\n",
    "    if temp_2 < temp_1:\n",
    "        print (f\"Минимум {count_min}: x = {extr[0]}, y = {temp_2}\")     \n",
    "    else:\n",
    "        print (f\"Максимум {count_min}: x = {extr[0]}, y = {temp_2}\")\n",
    "else:\n",
    "    temp_1 = f.subs(x, extr[1])\n",
    "    for i in extr:\n",
    "        temp_2 = f.subs(x, i)\n",
    "        if temp_2 < temp_1:\n",
    "            print (f\"Минимум {count_min}: x = {i}, y = {temp_2}\")\n",
    "            count_min+=1\n",
    "            temp_1 = temp_2\n",
    "        elif temp_2 > temp_1:\n",
    "            print (f\"Максимум {count_max}: x = {i}, y = {temp_2}\")\n",
    "            count_max+=1\n",
    "            temp_1 = temp_2"
   ]
  },
  {
   "cell_type": "code",
   "execution_count": 53,
   "metadata": {
    "datalore": {
     "hide_input_from_viewers": false,
     "hide_output_from_viewers": false,
     "node_id": "teNqUyJlHXxejx7TUIH86K",
     "report_properties": {},
     "type": "CODE"
    }
   },
   "outputs": [
    {
     "ename": "ValueError",
     "evalue": "ValueError: Non-real intervals are not supported",
     "output_type": "error",
     "traceback": [
      "\u001b[0;31m---------------------------------------------------------------------------",
      "Traceback (most recent call last)",
      "    at line 8 in <module>",
      "    at line 1028 in open(cls, a, b)",
      "    at line 932 in __new__(cls, start, end, left_open, right_open)",
      "ValueError: Non-real intervals are not supported"
     ]
    }
   ],
   "source": [
    "# Ищем интервал знакопостоянства функции, по методу семинара (здесь не работает)\n",
    "interval_list = [-oo, oo]\n",
    "interval_list[1:1] = solve(f, x)\n",
    "increas =[]\n",
    "decreas = []\n",
    "for i in range (1,len(interval_list)):\n",
    "    temp_1, temp_2 = interval_list[i-1], interval_list[i]\n",
    "    temp = is_increasing(f, Interval.open(temp_1, temp_2))\n",
    "    if temp:\n",
    "        increas.append(f'{temp_1},{temp_2}')\n",
    "    else:\n",
    "        decreas.append(f'{temp_1},{temp_2}')\n",
    "print('Функция больше 0 на интервалах:', *increas, sep ='\\n')\n",
    "print('Функция меньше 0 на интервалах:', *decreas, sep ='\\n')"
   ]
  },
  {
   "cell_type": "code",
   "execution_count": 27,
   "metadata": {
    "datalore": {
     "hide_input_from_viewers": true,
     "hide_output_from_viewers": true,
     "node_id": "EYYJRHBZgpFF6BmslXFpNP",
     "type": "CODE"
    }
   },
   "outputs": [
    {
     "name": "stdout",
     "output_type": "stream",
     "text": [
      "[-oo, -sqrt(3)*I, -1, sqrt(3)*I, oo]\n",
      "Функция больше 0 на интервалах:\n",
      "[-1, sqrt(3)*I]\n",
      "[sqrt(3)*I, oo]\n",
      "Функция меньше 0 на интервалах:\n",
      "[-oo, -sqrt(3)*I]\n",
      "[-sqrt(3)*I, -1]\n"
     ]
    }
   ],
   "source": [
    "# Ищем интервал знакопостоянства функции, мой метод (не работает с вариантом комплексных чисел)\n",
    "root_f = [-oo, oo]\n",
    "root_f[1:1] = (solve(f, x))\n",
    "root_f.insert(2,-1)\n",
    "print (root_f)\n",
    "pos_list = []\n",
    "neg_list = []\n",
    "\n",
    "for i in range(1,3):\n",
    "    if root_f[i-1] == -oo:\n",
    "        num_1 = root_f[i]-1\n",
    "        num_2 = root_f[i]\n",
    "    elif root_f[i] == -1:\n",
    "        num_1 = root_f[i-1]\n",
    "        num_2 = root_f[i-1]-0.1\n",
    "    else:\n",
    "        num_1 = root_f[i-1]\n",
    "        num_2 = root_f[i]\n",
    "    sred = (num_1+num_2)/2\n",
    "    ask_pos = f.subs(x,sred)\n",
    "    num_1 = root_f[i-1]\n",
    "    num_2 = root_f[i]\n",
    "    neg_list.append(f\"[{num_1}, {num_2}]\")\n",
    "\n",
    "for i in range(3, len(root_f)):\n",
    "    if root_f[i-1] == -1:\n",
    "        num_1 = root_f[i]+0.1\n",
    "        num_2 = root_f[i]\n",
    "    elif root_f[i] == oo:\n",
    "        num_1 = root_f[i-1]\n",
    "        num_2 = root_f[i-1]+1\n",
    "    else:\n",
    "        num_1 = root_f[i-1]\n",
    "        num_2 = root_f[i]\n",
    "    sred = (num_1+num_2)/2\n",
    "    ask_pos = f.subs(x,sred)\n",
    "    num_1 = root_f[i-1]\n",
    "    num_2 = root_f[i]\n",
    "    pos_list.append(f\"[{num_1}, {num_2}]\")\n",
    "\n",
    "print('Функция больше 0 на интервалах:', *pos_list, sep ='\\n')\n",
    "print('Функция меньше 0 на интервалах:', *neg_list, sep ='\\n')"
   ]
  }
 ],
 "metadata": {
  "datalore": {
   "base_environment": "default",
   "computation_mode": "JUPYTER",
   "package_manager": "pip",
   "packages": [],
   "version": 1
  },
  "kernelspec": {
   "display_name": "Python 3 (ipykernel)",
   "language": "python",
   "name": "python3"
  },
  "language_info": {
   "codemirror_mode": {
    "name": "ipython",
    "version": 3
   },
   "file_extension": ".py",
   "mimetype": "text/x-python",
   "name": "python",
   "nbconvert_exporter": "python",
   "pygments_lexer": "ipython3",
   "version": "3.9.13"
  }
 },
 "nbformat": 4,
 "nbformat_minor": 4
}
