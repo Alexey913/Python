{
 "cells":[
  {
   "cell_type":"code",
   "source":[
    "# f(x) = 2 * x ** 3 + 2 * x ** 2 - 18 * x - 18\n",
    "# 1. Определить корни\n",
    "# 2. Найти интервалы, на которых функция возрастает\n",
    "# 3. Найти интервалы, на которых функция убывает\n",
    "# 4. Построить график\n",
    "# 5. Вычислить вершину\n",
    "# 6. Определить промежутки, на котором f > 0\n",
    "# 7. Определить промежутки, на котором f < 0"
   ],
   "execution_count":2,
   "outputs":[
    
   ],
   "metadata":{
    "datalore":{
     "node_id":"YoBZVYFhgOiNGk8OQ94WxM",
     "type":"CODE",
     "hide_input_from_viewers":false,
     "hide_output_from_viewers":false,
     "report_properties":{
      
     }
    }
   }
  },
  {
   "cell_type":"code",
   "source":[
    "# Представление функции\n",
    "from sympy import *\n",
    "from sympy.plotting import plot\n",
    "\n",
    "x = Symbol (\"x\")\n",
    "f = 2 * x ** 3 + 2 * x ** 2 - 18 * x - 18\n",
    "f"
   ],
   "execution_count":3,
   "outputs":[
    {
     "data":{
      "text\/latex":[
       "$\\displaystyle 2 x^{3} + 2 x^{2} - 18 x - 18$"
      ]
     },
     "metadata":{
      
     },
     "output_type":"display_data"
    }
   ],
   "metadata":{
    "datalore":{
     "node_id":"QX0GpVb4GEK1LljqzLOEpm",
     "type":"CODE",
     "hide_input_from_viewers":false,
     "hide_output_from_viewers":false,
     "report_properties":{
      
     }
    }
   }
  },
  {
   "cell_type":"code",
   "source":[
    "# Находим нули функции\n",
    "print('Нули функции равны:')\n",
    "roots = solve(f, x) #решения в формате Python\n",
    "roots = solveset (f, x, S.Complexes) #решения в символьном формате\n",
    "roots"
   ],
   "execution_count":4,
   "outputs":[
    {
     "name":"stdout",
     "text":[
      "Нули функции равны:\n"
     ],
     "output_type":"stream"
    },
    {
     "data":{
      "text\/latex":[
       "$\\displaystyle \\left\\{-3, -1, 3\\right\\}$"
      ]
     },
     "metadata":{
      
     },
     "output_type":"display_data"
    }
   ],
   "metadata":{
    "datalore":{
     "node_id":"j8NgUXmYHdBt8kltpYkJ8Q",
     "type":"CODE",
     "hide_input_from_viewers":false,
     "hide_output_from_viewers":false,
     "report_properties":{
      
     }
    }
   }
  },
  {
   "cell_type":"code",
   "source":[
    "# Определяем интервалы, где функция возрастает и убывает ('Экстремумы')\n",
    "extremum_list = [-oo, oo]\n",
    "extremum_list[1:1] = solve(diff(f), x)\n",
    "extremum_list"
   ],
   "execution_count":6,
   "outputs":[
    {
     "data":{
      "text\/plain":[
       "[-oo, -1\/3 + 2*sqrt(7)\/3, -2*sqrt(7)\/3 - 1\/3, oo]"
      ]
     },
     "metadata":{
      
     },
     "output_type":"display_data"
    }
   ],
   "metadata":{
    "datalore":{
     "node_id":"A5HNMDdLkmT9e4JE90yRMX",
     "type":"CODE",
     "hide_input_from_viewers":false,
     "hide_output_from_viewers":false,
     "report_properties":{
      
     }
    }
   }
  },
  {
   "cell_type":"code",
   "source":[
    "# Определяем интревалы возрастания и убывания (добавил переменные для вычиления интервалов знакопостоянства)\n",
    "increas_intervals =[]\n",
    "decreas_intervals = []\n",
    "check_inc=0\n",
    "check_dec=0\n",
    "for i in range (1,len(extremum_list)):\n",
    "    temp = is_increasing(f, Interval.open(extremum_list[i-1], extremum_list[i]))\n",
    "    if temp:\n",
    "        increas_intervals.append(f'{extremum_list[i-1]},{extremum_list[i]}')\n",
    "    else:\n",
    "        decreas_intervals.append(f'{extremum_list[i-1]},{extremum_list[i]}')\n",
    "if len(increas_intervals)>0:\n",
    "    print('Функция возрастает на следующих интервалах:')\n",
    "    for i in range (len(increas_intervals)):\n",
    "        print (f'({increas_intervals[i]})', end = \" \")\n",
    "        check_inc+=1\n",
    "    print(f'\\n')\n",
    "else:\n",
    "    print('Интервалы возрастания отсутствуют')\n",
    "if len(decreas_intervals)>0:\n",
    "    print('Функция убываает на следующих интервалах:')\n",
    "    for i in range (len(decreas_intervals)):\n",
    "        print (f'({decreas_intervals[i]})', end = \" \")\n",
    "        check_dec+=1\n",
    "else:\n",
    "    print('Интервалы убывания отсутствуют')"
   ],
   "execution_count":7,
   "outputs":[
    {
     "name":"stdout",
     "text":[
      "Функция возрастает на следующих интервалах:\n",
      "(-1\/3 + 2*sqrt(7)\/3,-2*sqrt(7)\/3 - 1\/3) \n",
      "\n",
      "Функция убываает на следующих интервалах:\n",
      "(-oo,-1\/3 + 2*sqrt(7)\/3) (-2*sqrt(7)\/3 - 1\/3,oo) "
     ],
     "output_type":"stream"
    }
   ],
   "metadata":{
    "datalore":{
     "node_id":"kMx3n2uO1i9gBA1MX2NRSU",
     "type":"CODE",
     "hide_input_from_viewers":false,
     "hide_output_from_viewers":false,
     "report_properties":{
      
     }
    }
   }
  },
  {
   "cell_type":"code",
   "source":[
    "# Строим график\n",
    "plot((f, (x,-5, 5)), legend = True)"
   ],
   "execution_count":7,
   "outputs":[
    {
     "data":{
      "image\/png":"[encoded data removed]"
     },
     "metadata":{
      "image\/png":{
       
      }
     },
     "output_type":"display_data"
    },
    {
     "data":{
      "text\/plain":[
       "<sympy.plotting.plot.Plot at 0x7f8e0b71fa60>"
      ]
     },
     "metadata":{
      
     },
     "output_type":"display_data"
    }
   ],
   "metadata":{
    "datalore":{
     "node_id":"lySUJIq9MPvWmZwiu2iEpo",
     "type":"CODE",
     "hide_input_from_viewers":false,
     "hide_output_from_viewers":false,
     "report_properties":{
      
     }
    }
   }
  },
  {
   "cell_type":"code",
   "source":[
    "# Ищем экстремумы по методу семинара (не сходится с Матвеем)\n",
    "extr = solve(diff(f), x)\n",
    "count_min = 1\n",
    "count_max = 1\n",
    "for i in extr:\n",
    "    temp = f.subs(x, i)\n",
    "    if temp < 0:\n",
    "        print (f\"Минимум {count_min} =\", temp)\n",
    "        count_min+=1\n",
    "    elif temp >0:\n",
    "        print (f\"Максимум {count_max} =\", temp)\n",
    "        count_max+=1         "
   ],
   "execution_count":15,
   "outputs":[
    {
     "name":"stdout",
     "text":[
      "Минимум 1 = -12*sqrt(7) - 12 + 2*(-1\/3 + 2*sqrt(7)\/3)**2 + 2*(-1\/3 + 2*sqrt(7)\/3)**3\n",
      "Максимум 1 = 2*(-2*sqrt(7)\/3 - 1\/3)**3 - 12 + 2*(-2*sqrt(7)\/3 - 1\/3)**2 + 12*sqrt(7)\n"
     ],
     "output_type":"stream"
    }
   ],
   "metadata":{
    "datalore":{
     "node_id":"ORFru5zZHV1q4xCgr9oMfy",
     "type":"CODE",
     "hide_input_from_viewers":false,
     "hide_output_from_viewers":false,
     "report_properties":{
      
     }
    }
   }
  },
  {
   "cell_type":"code",
   "source":[
    "# Ищем экстремумы по моему методу (правильный ответ)\n",
    "extr = solve(diff(f), x)\n",
    "count_min = 1\n",
    "count_max = 1\n",
    "if len(extr) == 0 or (check_inc==0 or check_dec==0):\n",
    "    print (f\"Максимумы и минимумы отсутствуют!\")\n",
    "elif len(extr) == 1:\n",
    "    temp_1 = f.subs(x, extr[0]+4)\n",
    "    temp_2 = f.subs(x, extr[0])\n",
    "    if temp_2 < temp_1:\n",
    "        print (f\"Минимум {count_min}: x = {extr[0]}, y = {temp_2}\")     \n",
    "    else:\n",
    "        print (f\"Максимум {count_min}: x = {extr[0]}, y = {temp_2}\")\n",
    "else:\n",
    "    temp_1 = f.subs(x, extr[1])\n",
    "    for i in extr:\n",
    "        temp_2 = f.subs(x, i)\n",
    "        if temp_2 < temp_1:\n",
    "            print (f\"Минимум {count_min}: x = {i}, y = {temp_2}\")\n",
    "            count_min+=1\n",
    "            temp_1 = temp_2\n",
    "        elif temp_2 > temp_1:\n",
    "            print (f\"Максимум {count_max}: x = {i}, y = {temp_2}\")\n",
    "            count_max+=1\n",
    "            temp_1 = temp_2"
   ],
   "execution_count":8,
   "outputs":[
    {
     "name":"stdout",
     "text":[
      "Минимум 1: x = -1\/3 + 2*sqrt(7)\/3, y = -12*sqrt(7) - 12 + 2*(-1\/3 + 2*sqrt(7)\/3)**2 + 2*(-1\/3 + 2*sqrt(7)\/3)**3\n",
      "Максимум 1: x = -2*sqrt(7)\/3 - 1\/3, y = 2*(-2*sqrt(7)\/3 - 1\/3)**3 - 12 + 2*(-2*sqrt(7)\/3 - 1\/3)**2 + 12*sqrt(7)\n"
     ],
     "output_type":"stream"
    }
   ],
   "metadata":{
    "datalore":{
     "node_id":"IPTxZMj4XKE17ODyncuUhC",
     "type":"CODE",
     "hide_input_from_viewers":true,
     "hide_output_from_viewers":true
    }
   }
  },
  {
   "cell_type":"code",
   "source":[
    "# Ищем интервал знакопостоянства функции, по методу семинара (здесь не работает)\n",
    "interval_list = [-oo, oo]\n",
    "interval_list[1:1] = solve(f, x)\n",
    "increas =[]\n",
    "decreas = []\n",
    "for i in range (1,len(interval_list)):\n",
    "    temp_1, temp_2 = interval_list[i-1], interval_list[i]\n",
    "    temp = is_increasing(f, Interval.open(temp_1, temp_2))\n",
    "    if temp:\n",
    "        increas.append(f'{temp_1},{temp_2}')\n",
    "    else:\n",
    "        decreas.append(f'{temp_1},{temp_2}')\n",
    "print('Функция больше 0 на интервалах:', *increas, sep ='\\n')\n",
    "print('Функция меньше 0 на интервалах:', *decreas, sep ='\\n')\n"
   ],
   "execution_count":19,
   "outputs":[
    {
     "name":"stdout",
     "text":[
      "Функция больше 0:\n",
      "-oo,-3\n",
      "3,oo\n",
      "Функция меньше 0:\n",
      "-3,-1\n",
      "-1,3\n"
     ],
     "output_type":"stream"
    }
   ],
   "metadata":{
    "datalore":{
     "node_id":"vvnd6iUg2oQuFjYI1R3cjQ",
     "type":"CODE",
     "hide_input_from_viewers":false,
     "hide_output_from_viewers":false,
     "report_properties":{
      
     }
    }
   }
  },
  {
   "cell_type":"code",
   "source":[
    "# Ищем интервал знакопостоянства функции, мой метод (здесь работает)\n",
    "root_f = [-oo, oo]\n",
    "root_f[1:1] = (solve(f, x))\n",
    "print (root_f)\n",
    "pos_list = []\n",
    "neg_list = []\n",
    "\n",
    "for i in range(1, len(root_f)):\n",
    "    if root_f[i-1] == -oo:\n",
    "        num_1 = root_f[i]-1\n",
    "        num_2 = root_f[i]\n",
    "    elif root_f[i] == oo:\n",
    "        num_1 = root_f[i-1]\n",
    "        num_2 = root_f[i-1]+1\n",
    "    else:\n",
    "        num_1 = root_f[i-1]\n",
    "        num_2 = root_f[i]\n",
    "    sred = (num_1+num_2)\/2\n",
    "    ask_pos = f.subs(x,sred)\n",
    "    num_1 = root_f[i-1]\n",
    "    num_2 = root_f[i]\n",
    "    if ask(Q.positive(ask_pos)):\n",
    "        pos_list.append(f\"[{num_1}, {num_2}]\")\n",
    "    else:\n",
    "        neg_list.append(f\"[{num_1}, {num_2}]\")\n",
    "\n",
    "print('Функция больше 0 на интервалах:', *pos_list, sep ='\\n')\n",
    "print('Функция меньше 0 на интервалах:', *neg_list, sep ='\\n')"
   ],
   "execution_count":17,
   "outputs":[
    {
     "name":"stdout",
     "text":[
      "[-oo, -3, -1, 3, oo]\n",
      "Функция больше 0:\n",
      "[-3, -1]\n",
      "[3, oo]\n",
      "Функция меньше 0:\n",
      "[-oo, -3]\n",
      "[-1, 3]\n"
     ],
     "output_type":"stream"
    }
   ],
   "metadata":{
    "datalore":{
     "node_id":"2c2thLNK63OPJR7NHLoneX",
     "type":"CODE",
     "hide_input_from_viewers":false,
     "hide_output_from_viewers":false,
     "report_properties":{
      
     }
    }
   }
  }
 ],
 "metadata":{
  "kernelspec":{
   "display_name":"Python",
   "language":"python",
   "name":"python"
  },
  "datalore":{
   "version":1,
   "computation_mode":"JUPYTER",
   "package_manager":"pip",
   "base_environment":"default",
   "packages":[
    
   ]
  }
 },
 "nbformat":4,
 "nbformat_minor":4
}